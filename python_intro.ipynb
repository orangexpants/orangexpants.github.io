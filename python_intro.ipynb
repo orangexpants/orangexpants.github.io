{
  "cells": [
    {
      "cell_type": "markdown",
      "metadata": {
        "colab_type": "text",
        "id": "view-in-github"
      },
      "source": [
        "<a href=\"https://colab.research.google.com/github/orangexpants/orangexpants.github.io/blob/main/python_intro.ipynb\" target=\"_parent\"><img src=\"https://colab.research.google.com/assets/colab-badge.svg\" alt=\"Open In Colab\"/></a>"
      ]
    },
    {
      "cell_type": "markdown",
      "metadata": {
        "id": "OV62DwLuP95L"
      },
      "source": [
        "Trialing to see if this is something I can use to practice python coding with students."
      ]
    },
    {
      "cell_type": "code",
      "execution_count": null,
      "metadata": {
        "colab": {
          "base_uri": "https://localhost:8080/"
        },
        "id": "LYCQLJD9QEY3",
        "outputId": "a99d9254-80e8-4058-c8f9-e19d4683b0fe"
      },
      "outputs": [
        {
          "name": "stdout",
          "output_type": "stream",
          "text": [
            "Hello, World!\n"
          ]
        }
      ],
      "source": [
        "#print texts\n",
        "print(\"Hello, World!\")"
      ]
    },
    {
      "cell_type": "markdown",
      "metadata": {
        "id": "nCQIk60ZQam6"
      },
      "source": [
        "Value types: strings, integers, floats"
      ]
    },
    {
      "cell_type": "code",
      "execution_count": null,
      "metadata": {
        "colab": {
          "base_uri": "https://localhost:8080/"
        },
        "id": "NDoPex3MQn5g",
        "outputId": "ed1efa9a-3eaf-4393-ab9a-3a2257127378"
      },
      "outputs": [
        {
          "name": "stdout",
          "output_type": "stream",
          "text": [
            "this is a string 9 3.2\n"
          ]
        }
      ],
      "source": [
        "#strings are sequences of chars interpreted as a text\n",
        "a = str(\"this is a string\")\n",
        "b = 9\n",
        "c = 3.2\n",
        "print(a, b, c)"
      ]
    },
    {
      "cell_type": "code",
      "execution_count": null,
      "metadata": {
        "colab": {
          "base_uri": "https://localhost:8080/"
        },
        "id": "gqZs9Hg_Q6aD",
        "outputId": "ca7ccb97-839a-450a-ee76-d5e0ecc99090"
      },
      "outputs": [
        {
          "name": "stdout",
          "output_type": "stream",
          "text": [
            "12.2\n"
          ]
        }
      ],
      "source": [
        "print(b+c)"
      ]
    },
    {
      "cell_type": "markdown",
      "metadata": {
        "id": "Hv8d23ZKRH6H"
      },
      "source": [
        "Functions: a block of reusable code that performs certain tasks"
      ]
    },
    {
      "cell_type": "code",
      "execution_count": null,
      "metadata": {
        "colab": {
          "base_uri": "https://localhost:8080/"
        },
        "id": "uhv9-tH0RYzv",
        "outputId": "60cc4ab5-b5c2-40cb-ad09-c774548b54d7"
      },
      "outputs": [
        {
          "name": "stdout",
          "output_type": "stream",
          "text": [
            "This is a string\n"
          ]
        }
      ],
      "source": [
        "#print()\n",
        "test_var = \"This is a string\"\n",
        "print(test_var)"
      ]
    },
    {
      "cell_type": "code",
      "execution_count": null,
      "metadata": {
        "colab": {
          "base_uri": "https://localhost:8080/"
        },
        "id": "9EQXyAz2Rebu",
        "outputId": "ec960d58-dec6-4b94-be2c-a06acdeeae99"
      },
      "outputs": [
        {
          "name": "stdout",
          "output_type": "stream",
          "text": [
            "16\n"
          ]
        },
        {
          "data": {
            "text/plain": [
              "int"
            ]
          },
          "execution_count": 10,
          "metadata": {},
          "output_type": "execute_result"
        }
      ],
      "source": [
        "#len(), number of characters\n",
        "n_char = len(test_var)\n",
        "print(n_char)\n",
        "type(n_char)"
      ]
    },
    {
      "cell_type": "code",
      "execution_count": null,
      "metadata": {
        "colab": {
          "base_uri": "https://localhost:8080/"
        },
        "id": "_dgPYkR7Ri8O",
        "outputId": "5a65e541-f256-4132-f97e-33d07d626770"
      },
      "outputs": [
        {
          "name": "stdout",
          "output_type": "stream",
          "text": [
            "16\n"
          ]
        },
        {
          "data": {
            "text/plain": [
              "str"
            ]
          },
          "execution_count": 9,
          "metadata": {},
          "output_type": "execute_result"
        }
      ],
      "source": [
        "#str()\n",
        "n_char_str = str(n_char_str)\n",
        "print(n_char_str)\n",
        "type(n_char_str)"
      ]
    },
    {
      "cell_type": "code",
      "execution_count": null,
      "metadata": {
        "colab": {
          "base_uri": "https://localhost:8080/"
        },
        "id": "QY3Fbfd7R0P6",
        "outputId": "a08a60f1-2bdd-4079-e32a-ce6200265ae9"
      },
      "outputs": [
        {
          "name": "stdout",
          "output_type": "stream",
          "text": [
            "16\n"
          ]
        }
      ],
      "source": [
        "#int()\n",
        "int_nchars = int(n_char_str)\n",
        "print(int_nchars)"
      ]
    },
    {
      "cell_type": "code",
      "execution_count": null,
      "metadata": {
        "colab": {
          "base_uri": "https://localhost:8080/"
        },
        "id": "94rhWzhjR7rc",
        "outputId": "783b3c8d-739c-4f30-b113-5b6238b3698a"
      },
      "outputs": [
        {
          "name": "stdout",
          "output_type": "stream",
          "text": [
            "16.0\n"
          ]
        }
      ],
      "source": [
        "#float()\n",
        "float_nchars = float(n_char_str)\n",
        "print(float_nchars)"
      ]
    },
    {
      "cell_type": "markdown",
      "metadata": {
        "id": "GVDBdrnhSCDd"
      },
      "source": [
        "Methods: similar to functions but complete operations on objects, which often changes those objects.\n",
        "They tend to be specific to particular object types"
      ]
    },
    {
      "cell_type": "code",
      "execution_count": null,
      "metadata": {
        "colab": {
          "base_uri": "https://localhost:8080/"
        },
        "id": "CMCiq1iwSBvB",
        "outputId": "680fdf94-6562-4b26-ef71-227411b8aad6"
      },
      "outputs": [
        {
          "name": "stdout",
          "output_type": "stream",
          "text": [
            "this is a string\n"
          ]
        }
      ],
      "source": [
        "#.lower()\n",
        "sample_string = \"This is a STRING\"\n",
        "l_sample_string = sample_string.lower()\n",
        "print(l_sample_string)"
      ]
    },
    {
      "cell_type": "code",
      "execution_count": null,
      "metadata": {
        "colab": {
          "base_uri": "https://localhost:8080/"
        },
        "id": "G6ntvbxnSVhV",
        "outputId": "62f568be-3875-47dc-c8ae-68a5be1b16dc"
      },
      "outputs": [
        {
          "name": "stdout",
          "output_type": "stream",
          "text": [
            "['this', 'is', 'a', 'string']\n"
          ]
        }
      ],
      "source": [
        "#.split()\n",
        "sample_list = l_sample_string.split(\" \")\n",
        "print(sample_list)"
      ]
    },
    {
      "cell_type": "code",
      "execution_count": null,
      "metadata": {
        "colab": {
          "base_uri": "https://localhost:8080/"
        },
        "id": "P701phGYScVu",
        "outputId": "ef7b0daa-d354-4487-c735-edb7ff865c87"
      },
      "outputs": [
        {
          "name": "stdout",
          "output_type": "stream",
          "text": [
            "['th', 's ', 's a str', 'ng']\n"
          ]
        }
      ],
      "source": [
        "#we can also split on any char\n",
        "sample_list2 = l_sample_string.split(\"i\")\n",
        "print(sample_list2)"
      ]
    },
    {
      "cell_type": "markdown",
      "metadata": {
        "id": "DbX8phxWSkGN"
      },
      "source": [
        "Combining methods and functions"
      ]
    },
    {
      "cell_type": "code",
      "execution_count": null,
      "metadata": {
        "colab": {
          "base_uri": "https://localhost:8080/"
        },
        "id": "E6BzEV7ESoJz",
        "outputId": "5cfd39d9-ac44-4fac-83cc-198dfd39c816"
      },
      "outputs": [
        {
          "name": "stdout",
          "output_type": "stream",
          "text": [
            "['this', 'is', 'a', 'string']\n"
          ]
        }
      ],
      "source": [
        "#print the result of lowering and splitting a string\n",
        "print(\"This is a STRING\".lower().split())"
      ]
    },
    {
      "cell_type": "code",
      "execution_count": null,
      "metadata": {
        "colab": {
          "base_uri": "https://localhost:8080/"
        },
        "id": "rX_8gB8jStvG",
        "outputId": "0b0dffcb-bea5-464b-b02a-e23b1ca9dee2"
      },
      "outputs": [
        {
          "name": "stdout",
          "output_type": "stream",
          "text": [
            "4\n"
          ]
        }
      ],
      "source": [
        "#print the length of the list that is a result of lowering and splitting a string\n",
        "print(len(\"This is a STRING\".lower().split()))"
      ]
    },
    {
      "cell_type": "markdown",
      "metadata": {
        "id": "Ga3utk_sS1TQ"
      },
      "source": [
        "Sample exercises"
      ]
    },
    {
      "cell_type": "code",
      "execution_count": null,
      "metadata": {
        "colab": {
          "base_uri": "https://localhost:8080/"
        },
        "id": "_rcTKpxyS2ih",
        "outputId": "15f20386-5016-4eb5-858b-78a515ecc9ff"
      },
      "outputs": [
        {
          "name": "stdout",
          "output_type": "stream",
          "text": [
            "Rock climbing and conducting corpus analyses in Python are my favorite activities.\n"
          ]
        }
      ],
      "source": [
        "#assign sentence to var string_sent\n",
        "string_sent = \"Rock climbing and conducting corpus analyses in Python are my favorite activities.\"\n",
        "print(string_sent)"
      ]
    },
    {
      "cell_type": "code",
      "execution_count": null,
      "metadata": {
        "colab": {
          "base_uri": "https://localhost:8080/"
        },
        "id": "ijQKu6pTTUOT",
        "outputId": "6f53f153-92db-438c-a6da-4821579ca6d2"
      },
      "outputs": [
        {
          "name": "stdout",
          "output_type": "stream",
          "text": [
            "82\n"
          ]
        }
      ],
      "source": [
        "#print num of chars in string_sent\n",
        "print(len(string_sent))"
      ]
    },
    {
      "cell_type": "code",
      "execution_count": null,
      "metadata": {
        "colab": {
          "base_uri": "https://localhost:8080/"
        },
        "id": "xldnCnYVTd_o",
        "outputId": "263abe46-219b-4576-da81-f70165e07fd6"
      },
      "outputs": [
        {
          "name": "stdout",
          "output_type": "stream",
          "text": [
            "['Rock', 'climbing', 'and', 'conducting', 'corpus', 'analyses', 'in', 'Python', 'are', 'my', 'favorite', 'activities.']\n"
          ]
        }
      ],
      "source": [
        "#turn string_sent into a list of words and assign it to list_sent\n",
        "list_sent = string_sent.split()\n",
        "print(list_sent)"
      ]
    },
    {
      "cell_type": "code",
      "execution_count": null,
      "metadata": {
        "colab": {
          "base_uri": "https://localhost:8080/"
        },
        "id": "1W0rOeorTmz5",
        "outputId": "fe4182b4-db23-4c77-9b39-ec24fb1b00c7"
      },
      "outputs": [
        {
          "name": "stdout",
          "output_type": "stream",
          "text": [
            "12\n"
          ]
        }
      ],
      "source": [
        "#print num of words in string_sent\n",
        "print(len(list_sent))"
      ]
    },
    {
      "cell_type": "code",
      "execution_count": null,
      "metadata": {
        "colab": {
          "base_uri": "https://localhost:8080/"
        },
        "id": "Lx40bYH8Ttwu",
        "outputId": "372e4a2e-6c8e-49a3-8656-c5dfbc83b2f8"
      },
      "outputs": [
        {
          "name": "stdout",
          "output_type": "stream",
          "text": [
            "6.833333333333333\n"
          ]
        }
      ],
      "source": [
        "#assign the avg num of chars per word and assign it to av_chars\n",
        "num_of_chars = len(string_sent)\n",
        "num_of_words = len(list_sent)\n",
        "av_chars = num_of_chars/num_of_words\n",
        "print(av_chars)"
      ]
    }
  ],
  "metadata": {
    "colab": {
      "include_colab_link": true,
      "provenance": []
    },
    "kernelspec": {
      "display_name": "Python 3",
      "name": "python3"
    },
    "language_info": {
      "name": "python"
    }
  },
  "nbformat": 4,
  "nbformat_minor": 0
}
